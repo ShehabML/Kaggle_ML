{
 "cells": [
  {
   "cell_type": "markdown",
   "id": "6e517ed1",
   "metadata": {
    "papermill": {
     "duration": 0.007056,
     "end_time": "2023-02-14T08:05:08.985872",
     "exception": false,
     "start_time": "2023-02-14T08:05:08.978816",
     "status": "completed"
    },
    "tags": []
   },
   "source": [
    "**This notebook is an exercise in the [Intermediate Machine Learning](https://www.kaggle.com/learn/intermediate-machine-learning) course.  You can reference the tutorial at [this link](https://www.kaggle.com/alexisbcook/pipelines).**\n",
    "\n",
    "---\n"
   ]
  },
  {
   "cell_type": "markdown",
   "id": "c6b25cbe",
   "metadata": {
    "papermill": {
     "duration": 0.00512,
     "end_time": "2023-02-14T08:05:08.996589",
     "exception": false,
     "start_time": "2023-02-14T08:05:08.991469",
     "status": "completed"
    },
    "tags": []
   },
   "source": [
    "In this exercise, you will use **pipelines** to improve the efficiency of your machine learning code.\n",
    "\n",
    "# Setup\n",
    "\n",
    "The questions below will give you feedback on your work. Run the following cell to set up the feedback system."
   ]
  },
  {
   "cell_type": "code",
   "execution_count": 1,
   "id": "1b596c31",
   "metadata": {
    "execution": {
     "iopub.execute_input": "2023-02-14T08:05:09.009418Z",
     "iopub.status.busy": "2023-02-14T08:05:09.008915Z",
     "iopub.status.idle": "2023-02-14T08:05:09.954481Z",
     "shell.execute_reply": "2023-02-14T08:05:09.953316Z"
    },
    "papermill": {
     "duration": 0.955359,
     "end_time": "2023-02-14T08:05:09.957383",
     "exception": false,
     "start_time": "2023-02-14T08:05:09.002024",
     "status": "completed"
    },
    "tags": []
   },
   "outputs": [
    {
     "name": "stdout",
     "output_type": "stream",
     "text": [
      "Setup Complete\n"
     ]
    }
   ],
   "source": [
    "# Set up code checking\n",
    "import os\n",
    "if not os.path.exists(\"../input/train.csv\"):\n",
    "    os.symlink(\"../input/home-data-for-ml-course/train.csv\", \"../input/train.csv\")  \n",
    "    os.symlink(\"../input/home-data-for-ml-course/test.csv\", \"../input/test.csv\") \n",
    "from learntools.core import binder\n",
    "binder.bind(globals())\n",
    "from learntools.ml_intermediate.ex4 import *\n",
    "print(\"Setup Complete\")\n",
    "import matplotlib\n",
    "import matplotlib.pyplot as plt\n",
    "matplotlib.style.use('ggplot')"
   ]
  },
  {
   "cell_type": "markdown",
   "id": "8fc4e19c",
   "metadata": {
    "papermill": {
     "duration": 0.005595,
     "end_time": "2023-02-14T08:05:09.971052",
     "exception": false,
     "start_time": "2023-02-14T08:05:09.965457",
     "status": "completed"
    },
    "tags": []
   },
   "source": [
    "You will work with data from the [Housing Prices Competition for Kaggle Learn Users](https://www.kaggle.com/c/home-data-for-ml-course). \n",
    "\n",
    "![Ames Housing dataset image](https://i.imgur.com/lTJVG4e.png)\n",
    "\n",
    "Run the next code cell without changes to load the training and validation sets in `X_train`, `X_valid`, `y_train`, and `y_valid`.  The test set is loaded in `X_test`."
   ]
  },
  {
   "cell_type": "code",
   "execution_count": 2,
   "id": "8061b4f3",
   "metadata": {
    "execution": {
     "iopub.execute_input": "2023-02-14T08:05:09.984921Z",
     "iopub.status.busy": "2023-02-14T08:05:09.983674Z",
     "iopub.status.idle": "2023-02-14T08:05:10.180787Z",
     "shell.execute_reply": "2023-02-14T08:05:10.179420Z"
    },
    "papermill": {
     "duration": 0.206766,
     "end_time": "2023-02-14T08:05:10.183575",
     "exception": false,
     "start_time": "2023-02-14T08:05:09.976809",
     "status": "completed"
    },
    "tags": []
   },
   "outputs": [],
   "source": [
    "import pandas as pd\n",
    "from sklearn.model_selection import train_test_split\n",
    "\n",
    "# Read the data\n",
    "X_full = pd.read_csv('../input/train.csv', index_col='Id')\n",
    "X_test_full = pd.read_csv('../input/test.csv', index_col='Id')\n",
    "\n",
    "# Remove rows with missing target, separate target from predictors\n",
    "X_full.dropna(axis=0, subset=['SalePrice'], inplace=True)\n",
    "y = X_full.SalePrice\n",
    "X_full.drop(['SalePrice'], axis=1, inplace=True)\n",
    "\n",
    "# Break off validation set from training data\n",
    "X_train_full, X_valid_full, y_train, y_valid = train_test_split(X_full, y, \n",
    "                                                                train_size=0.8, test_size=0.2,\n",
    "                                                                random_state=0)\n",
    "## trying new data \n",
    "x2=X_train_full.copy()\n",
    "xnew = x2.drop(['Alley','PoolQC','MiscFeature','Fence',],axis=1)\n",
    "\n",
    "\n",
    "\n",
    "# \"Cardinality\" means the number of unique values in a column\n",
    "# Select categorical columns with relatively low cardinality (convenient but arbitrary)\n",
    "categorical_cols = [cname for cname in xnew.columns if\n",
    "                    xnew[cname].nunique() < 10 and \n",
    "                    xnew[cname].dtype == \"object\"]\n",
    "\n",
    "# Select numerical columns\n",
    "numerical_cols = [cname for cname in xnew.columns if \n",
    "                xnew[cname].dtype in ['int64', 'float64']]\n",
    "\n",
    "# Keep selected columns only\n",
    "my_cols = categorical_cols + numerical_cols\n",
    "X_train = xnew[my_cols].copy()\n",
    "X_valid = X_valid_full[my_cols].copy()\n",
    "X_test = X_test_full[my_cols].copy()"
   ]
  },
  {
   "cell_type": "code",
   "execution_count": 3,
   "id": "22e9e3a9",
   "metadata": {
    "execution": {
     "iopub.execute_input": "2023-02-14T08:05:10.196796Z",
     "iopub.status.busy": "2023-02-14T08:05:10.196374Z",
     "iopub.status.idle": "2023-02-14T08:05:10.225984Z",
     "shell.execute_reply": "2023-02-14T08:05:10.224829Z"
    },
    "papermill": {
     "duration": 0.039169,
     "end_time": "2023-02-14T08:05:10.228542",
     "exception": false,
     "start_time": "2023-02-14T08:05:10.189373",
     "status": "completed"
    },
    "tags": []
   },
   "outputs": [
    {
     "data": {
      "text/html": [
       "<div>\n",
       "<style scoped>\n",
       "    .dataframe tbody tr th:only-of-type {\n",
       "        vertical-align: middle;\n",
       "    }\n",
       "\n",
       "    .dataframe tbody tr th {\n",
       "        vertical-align: top;\n",
       "    }\n",
       "\n",
       "    .dataframe thead th {\n",
       "        text-align: right;\n",
       "    }\n",
       "</style>\n",
       "<table border=\"1\" class=\"dataframe\">\n",
       "  <thead>\n",
       "    <tr style=\"text-align: right;\">\n",
       "      <th></th>\n",
       "      <th>MSZoning</th>\n",
       "      <th>Street</th>\n",
       "      <th>LotShape</th>\n",
       "      <th>LandContour</th>\n",
       "      <th>Utilities</th>\n",
       "      <th>LotConfig</th>\n",
       "      <th>LandSlope</th>\n",
       "      <th>Condition1</th>\n",
       "      <th>Condition2</th>\n",
       "      <th>BldgType</th>\n",
       "      <th>...</th>\n",
       "      <th>GarageArea</th>\n",
       "      <th>WoodDeckSF</th>\n",
       "      <th>OpenPorchSF</th>\n",
       "      <th>EnclosedPorch</th>\n",
       "      <th>3SsnPorch</th>\n",
       "      <th>ScreenPorch</th>\n",
       "      <th>PoolArea</th>\n",
       "      <th>MiscVal</th>\n",
       "      <th>MoSold</th>\n",
       "      <th>YrSold</th>\n",
       "    </tr>\n",
       "    <tr>\n",
       "      <th>Id</th>\n",
       "      <th></th>\n",
       "      <th></th>\n",
       "      <th></th>\n",
       "      <th></th>\n",
       "      <th></th>\n",
       "      <th></th>\n",
       "      <th></th>\n",
       "      <th></th>\n",
       "      <th></th>\n",
       "      <th></th>\n",
       "      <th></th>\n",
       "      <th></th>\n",
       "      <th></th>\n",
       "      <th></th>\n",
       "      <th></th>\n",
       "      <th></th>\n",
       "      <th></th>\n",
       "      <th></th>\n",
       "      <th></th>\n",
       "      <th></th>\n",
       "      <th></th>\n",
       "    </tr>\n",
       "  </thead>\n",
       "  <tbody>\n",
       "    <tr>\n",
       "      <th>619</th>\n",
       "      <td>RL</td>\n",
       "      <td>Pave</td>\n",
       "      <td>Reg</td>\n",
       "      <td>Lvl</td>\n",
       "      <td>AllPub</td>\n",
       "      <td>Inside</td>\n",
       "      <td>Gtl</td>\n",
       "      <td>Norm</td>\n",
       "      <td>Norm</td>\n",
       "      <td>1Fam</td>\n",
       "      <td>...</td>\n",
       "      <td>774</td>\n",
       "      <td>0</td>\n",
       "      <td>108</td>\n",
       "      <td>0</td>\n",
       "      <td>0</td>\n",
       "      <td>260</td>\n",
       "      <td>0</td>\n",
       "      <td>0</td>\n",
       "      <td>7</td>\n",
       "      <td>2007</td>\n",
       "    </tr>\n",
       "    <tr>\n",
       "      <th>871</th>\n",
       "      <td>RL</td>\n",
       "      <td>Pave</td>\n",
       "      <td>Reg</td>\n",
       "      <td>Lvl</td>\n",
       "      <td>AllPub</td>\n",
       "      <td>Inside</td>\n",
       "      <td>Gtl</td>\n",
       "      <td>PosN</td>\n",
       "      <td>Norm</td>\n",
       "      <td>1Fam</td>\n",
       "      <td>...</td>\n",
       "      <td>308</td>\n",
       "      <td>0</td>\n",
       "      <td>0</td>\n",
       "      <td>0</td>\n",
       "      <td>0</td>\n",
       "      <td>0</td>\n",
       "      <td>0</td>\n",
       "      <td>0</td>\n",
       "      <td>8</td>\n",
       "      <td>2009</td>\n",
       "    </tr>\n",
       "    <tr>\n",
       "      <th>93</th>\n",
       "      <td>RL</td>\n",
       "      <td>Pave</td>\n",
       "      <td>IR1</td>\n",
       "      <td>HLS</td>\n",
       "      <td>AllPub</td>\n",
       "      <td>Inside</td>\n",
       "      <td>Gtl</td>\n",
       "      <td>Norm</td>\n",
       "      <td>Norm</td>\n",
       "      <td>1Fam</td>\n",
       "      <td>...</td>\n",
       "      <td>432</td>\n",
       "      <td>0</td>\n",
       "      <td>0</td>\n",
       "      <td>44</td>\n",
       "      <td>0</td>\n",
       "      <td>0</td>\n",
       "      <td>0</td>\n",
       "      <td>0</td>\n",
       "      <td>8</td>\n",
       "      <td>2009</td>\n",
       "    </tr>\n",
       "    <tr>\n",
       "      <th>818</th>\n",
       "      <td>RL</td>\n",
       "      <td>Pave</td>\n",
       "      <td>IR1</td>\n",
       "      <td>Lvl</td>\n",
       "      <td>AllPub</td>\n",
       "      <td>CulDSac</td>\n",
       "      <td>Gtl</td>\n",
       "      <td>Norm</td>\n",
       "      <td>Norm</td>\n",
       "      <td>1Fam</td>\n",
       "      <td>...</td>\n",
       "      <td>857</td>\n",
       "      <td>150</td>\n",
       "      <td>59</td>\n",
       "      <td>0</td>\n",
       "      <td>0</td>\n",
       "      <td>0</td>\n",
       "      <td>0</td>\n",
       "      <td>0</td>\n",
       "      <td>7</td>\n",
       "      <td>2008</td>\n",
       "    </tr>\n",
       "    <tr>\n",
       "      <th>303</th>\n",
       "      <td>RL</td>\n",
       "      <td>Pave</td>\n",
       "      <td>IR1</td>\n",
       "      <td>Lvl</td>\n",
       "      <td>AllPub</td>\n",
       "      <td>Corner</td>\n",
       "      <td>Gtl</td>\n",
       "      <td>Norm</td>\n",
       "      <td>Norm</td>\n",
       "      <td>1Fam</td>\n",
       "      <td>...</td>\n",
       "      <td>843</td>\n",
       "      <td>468</td>\n",
       "      <td>81</td>\n",
       "      <td>0</td>\n",
       "      <td>0</td>\n",
       "      <td>0</td>\n",
       "      <td>0</td>\n",
       "      <td>0</td>\n",
       "      <td>1</td>\n",
       "      <td>2006</td>\n",
       "    </tr>\n",
       "  </tbody>\n",
       "</table>\n",
       "<p>5 rows × 72 columns</p>\n",
       "</div>"
      ],
      "text/plain": [
       "    MSZoning Street LotShape LandContour Utilities LotConfig LandSlope  \\\n",
       "Id                                                                       \n",
       "619       RL   Pave      Reg         Lvl    AllPub    Inside       Gtl   \n",
       "871       RL   Pave      Reg         Lvl    AllPub    Inside       Gtl   \n",
       "93        RL   Pave      IR1         HLS    AllPub    Inside       Gtl   \n",
       "818       RL   Pave      IR1         Lvl    AllPub   CulDSac       Gtl   \n",
       "303       RL   Pave      IR1         Lvl    AllPub    Corner       Gtl   \n",
       "\n",
       "    Condition1 Condition2 BldgType  ... GarageArea WoodDeckSF OpenPorchSF  \\\n",
       "Id                                  ...                                     \n",
       "619       Norm       Norm     1Fam  ...        774          0         108   \n",
       "871       PosN       Norm     1Fam  ...        308          0           0   \n",
       "93        Norm       Norm     1Fam  ...        432          0           0   \n",
       "818       Norm       Norm     1Fam  ...        857        150          59   \n",
       "303       Norm       Norm     1Fam  ...        843        468          81   \n",
       "\n",
       "    EnclosedPorch 3SsnPorch ScreenPorch PoolArea MiscVal MoSold YrSold  \n",
       "Id                                                                      \n",
       "619             0         0         260        0       0      7   2007  \n",
       "871             0         0           0        0       0      8   2009  \n",
       "93             44         0           0        0       0      8   2009  \n",
       "818             0         0           0        0       0      7   2008  \n",
       "303             0         0           0        0       0      1   2006  \n",
       "\n",
       "[5 rows x 72 columns]"
      ]
     },
     "execution_count": 3,
     "metadata": {},
     "output_type": "execute_result"
    }
   ],
   "source": [
    "X_train.head()\n"
   ]
  },
  {
   "cell_type": "code",
   "execution_count": 4,
   "id": "3a0a7030",
   "metadata": {
    "execution": {
     "iopub.execute_input": "2023-02-14T08:05:10.242393Z",
     "iopub.status.busy": "2023-02-14T08:05:10.241991Z",
     "iopub.status.idle": "2023-02-14T08:05:10.268516Z",
     "shell.execute_reply": "2023-02-14T08:05:10.266834Z"
    },
    "papermill": {
     "duration": 0.036961,
     "end_time": "2023-02-14T08:05:10.271600",
     "exception": false,
     "start_time": "2023-02-14T08:05:10.234639",
     "status": "completed"
    },
    "tags": []
   },
   "outputs": [
    {
     "name": "stdout",
     "output_type": "stream",
     "text": [
      "<class 'pandas.core.frame.DataFrame'>\n",
      "Int64Index: 1459 entries, 1461 to 2919\n",
      "Data columns (total 72 columns):\n",
      " #   Column         Non-Null Count  Dtype  \n",
      "---  ------         --------------  -----  \n",
      " 0   MSZoning       1455 non-null   object \n",
      " 1   Street         1459 non-null   object \n",
      " 2   LotShape       1459 non-null   object \n",
      " 3   LandContour    1459 non-null   object \n",
      " 4   Utilities      1457 non-null   object \n",
      " 5   LotConfig      1459 non-null   object \n",
      " 6   LandSlope      1459 non-null   object \n",
      " 7   Condition1     1459 non-null   object \n",
      " 8   Condition2     1459 non-null   object \n",
      " 9   BldgType       1459 non-null   object \n",
      " 10  HouseStyle     1459 non-null   object \n",
      " 11  RoofStyle      1459 non-null   object \n",
      " 12  RoofMatl       1459 non-null   object \n",
      " 13  MasVnrType     1443 non-null   object \n",
      " 14  ExterQual      1459 non-null   object \n",
      " 15  ExterCond      1459 non-null   object \n",
      " 16  Foundation     1459 non-null   object \n",
      " 17  BsmtQual       1415 non-null   object \n",
      " 18  BsmtCond       1414 non-null   object \n",
      " 19  BsmtExposure   1415 non-null   object \n",
      " 20  BsmtFinType1   1417 non-null   object \n",
      " 21  BsmtFinType2   1417 non-null   object \n",
      " 22  Heating        1459 non-null   object \n",
      " 23  HeatingQC      1459 non-null   object \n",
      " 24  CentralAir     1459 non-null   object \n",
      " 25  Electrical     1459 non-null   object \n",
      " 26  KitchenQual    1458 non-null   object \n",
      " 27  Functional     1457 non-null   object \n",
      " 28  FireplaceQu    729 non-null    object \n",
      " 29  GarageType     1383 non-null   object \n",
      " 30  GarageFinish   1381 non-null   object \n",
      " 31  GarageQual     1381 non-null   object \n",
      " 32  GarageCond     1381 non-null   object \n",
      " 33  PavedDrive     1459 non-null   object \n",
      " 34  SaleType       1458 non-null   object \n",
      " 35  SaleCondition  1459 non-null   object \n",
      " 36  MSSubClass     1459 non-null   int64  \n",
      " 37  LotFrontage    1232 non-null   float64\n",
      " 38  LotArea        1459 non-null   int64  \n",
      " 39  OverallQual    1459 non-null   int64  \n",
      " 40  OverallCond    1459 non-null   int64  \n",
      " 41  YearBuilt      1459 non-null   int64  \n",
      " 42  YearRemodAdd   1459 non-null   int64  \n",
      " 43  MasVnrArea     1444 non-null   float64\n",
      " 44  BsmtFinSF1     1458 non-null   float64\n",
      " 45  BsmtFinSF2     1458 non-null   float64\n",
      " 46  BsmtUnfSF      1458 non-null   float64\n",
      " 47  TotalBsmtSF    1458 non-null   float64\n",
      " 48  1stFlrSF       1459 non-null   int64  \n",
      " 49  2ndFlrSF       1459 non-null   int64  \n",
      " 50  LowQualFinSF   1459 non-null   int64  \n",
      " 51  GrLivArea      1459 non-null   int64  \n",
      " 52  BsmtFullBath   1457 non-null   float64\n",
      " 53  BsmtHalfBath   1457 non-null   float64\n",
      " 54  FullBath       1459 non-null   int64  \n",
      " 55  HalfBath       1459 non-null   int64  \n",
      " 56  BedroomAbvGr   1459 non-null   int64  \n",
      " 57  KitchenAbvGr   1459 non-null   int64  \n",
      " 58  TotRmsAbvGrd   1459 non-null   int64  \n",
      " 59  Fireplaces     1459 non-null   int64  \n",
      " 60  GarageYrBlt    1381 non-null   float64\n",
      " 61  GarageCars     1458 non-null   float64\n",
      " 62  GarageArea     1458 non-null   float64\n",
      " 63  WoodDeckSF     1459 non-null   int64  \n",
      " 64  OpenPorchSF    1459 non-null   int64  \n",
      " 65  EnclosedPorch  1459 non-null   int64  \n",
      " 66  3SsnPorch      1459 non-null   int64  \n",
      " 67  ScreenPorch    1459 non-null   int64  \n",
      " 68  PoolArea       1459 non-null   int64  \n",
      " 69  MiscVal        1459 non-null   int64  \n",
      " 70  MoSold         1459 non-null   int64  \n",
      " 71  YrSold         1459 non-null   int64  \n",
      "dtypes: float64(11), int64(25), object(36)\n",
      "memory usage: 832.1+ KB\n"
     ]
    }
   ],
   "source": [
    "X_test.info()"
   ]
  },
  {
   "cell_type": "code",
   "execution_count": 5,
   "id": "f00b7c6b",
   "metadata": {
    "execution": {
     "iopub.execute_input": "2023-02-14T08:05:10.286218Z",
     "iopub.status.busy": "2023-02-14T08:05:10.285331Z",
     "iopub.status.idle": "2023-02-14T08:05:10.290555Z",
     "shell.execute_reply": "2023-02-14T08:05:10.289384Z"
    },
    "papermill": {
     "duration": 0.015131,
     "end_time": "2023-02-14T08:05:10.293043",
     "exception": false,
     "start_time": "2023-02-14T08:05:10.277912",
     "status": "completed"
    },
    "tags": []
   },
   "outputs": [],
   "source": [
    "# x2=X_train.copy()\n",
    "# xnew = x2.drop(['Alley','PoolQC','MiscFeature','Fence','FireplaceQu'],axis=1)\n",
    "# xnew.info()"
   ]
  },
  {
   "cell_type": "markdown",
   "id": "9791b213",
   "metadata": {
    "papermill": {
     "duration": 0.005657,
     "end_time": "2023-02-14T08:05:10.304970",
     "exception": false,
     "start_time": "2023-02-14T08:05:10.299313",
     "status": "completed"
    },
    "tags": []
   },
   "source": [
    "The next code cell uses code from the tutorial to preprocess the data and train a model.  Run this code without changes."
   ]
  },
  {
   "cell_type": "code",
   "execution_count": 6,
   "id": "b9d70c53",
   "metadata": {
    "execution": {
     "iopub.execute_input": "2023-02-14T08:05:10.318589Z",
     "iopub.status.busy": "2023-02-14T08:05:10.318163Z",
     "iopub.status.idle": "2023-02-14T08:05:12.907360Z",
     "shell.execute_reply": "2023-02-14T08:05:12.906007Z"
    },
    "papermill": {
     "duration": 2.599133,
     "end_time": "2023-02-14T08:05:12.910012",
     "exception": false,
     "start_time": "2023-02-14T08:05:10.310879",
     "status": "completed"
    },
    "tags": []
   },
   "outputs": [
    {
     "name": "stdout",
     "output_type": "stream",
     "text": [
      "MAE: 17601.65037671233\n"
     ]
    }
   ],
   "source": [
    "from sklearn.compose import ColumnTransformer\n",
    "from sklearn.pipeline import Pipeline\n",
    "from sklearn.impute import SimpleImputer\n",
    "from sklearn.preprocessing import OneHotEncoder\n",
    "from sklearn.ensemble import RandomForestRegressor\n",
    "from sklearn.metrics import mean_absolute_error\n",
    "\n",
    "# Preprocessing for numerical data\n",
    "numerical_transformer = SimpleImputer(strategy='constant')\n",
    "\n",
    "# Preprocessing for categorical data\n",
    "categorical_transformer = Pipeline(steps=[\n",
    "    ('imputer', SimpleImputer(strategy='most_frequent')),\n",
    "    ('onehot', OneHotEncoder(handle_unknown='ignore'))\n",
    "])\n",
    "\n",
    "# Bundle preprocessing for numerical and categorical data\n",
    "preprocessor = ColumnTransformer(\n",
    "    transformers=[\n",
    "        ('num', numerical_transformer, numerical_cols),\n",
    "        ('cat', categorical_transformer, categorical_cols)\n",
    "    ])\n",
    "\n",
    "# Define model\n",
    "model = RandomForestRegressor(n_estimators=100, random_state=0)\n",
    "\n",
    "# Bundle preprocessing and modeling code in a pipeline\n",
    "clf = Pipeline(steps=[('preprocessor', preprocessor),\n",
    "                      ('model', model)\n",
    "                     ])\n",
    "\n",
    "# Preprocessing of training data, fit model \n",
    "clf.fit(X_train, y_train)\n",
    "\n",
    "# Preprocessing of validation data, get predictions\n",
    "preds = clf.predict(X_valid)\n",
    "\n",
    "\n",
    "print('MAE:', mean_absolute_error(y_valid, preds))"
   ]
  },
  {
   "cell_type": "markdown",
   "id": "0ac1ec1e",
   "metadata": {
    "papermill": {
     "duration": 0.005839,
     "end_time": "2023-02-14T08:05:12.922076",
     "exception": false,
     "start_time": "2023-02-14T08:05:12.916237",
     "status": "completed"
    },
    "tags": []
   },
   "source": [
    "The code yields a value around 17862 for the mean absolute error (MAE).  In the next step, you will amend the code to do better.\n",
    "\n",
    "# Step 1: Improve the performance\n",
    "\n",
    "### Part A\n",
    "\n",
    "Now, it's your turn!  In the code cell below, define your own preprocessing steps and random forest model.  Fill in values for the following variables:\n",
    "- `numerical_transformer`\n",
    "- `categorical_transformer`\n",
    "- `model`\n",
    "\n",
    "To pass this part of the exercise, you need only define valid preprocessing steps and a random forest model."
   ]
  },
  {
   "cell_type": "code",
   "execution_count": 7,
   "id": "d7848d87",
   "metadata": {
    "execution": {
     "iopub.execute_input": "2023-02-14T08:05:12.936122Z",
     "iopub.status.busy": "2023-02-14T08:05:12.935685Z",
     "iopub.status.idle": "2023-02-14T08:06:00.406136Z",
     "shell.execute_reply": "2023-02-14T08:06:00.405202Z"
    },
    "papermill": {
     "duration": 47.480198,
     "end_time": "2023-02-14T08:06:00.408434",
     "exception": false,
     "start_time": "2023-02-14T08:05:12.928236",
     "status": "completed"
    },
    "tags": []
   },
   "outputs": [
    {
     "data": {
      "application/javascript": [
       "parent.postMessage({\"jupyterEvent\": \"custom.exercise_interaction\", \"data\": {\"outcomeType\": 1, \"valueTowardsCompletion\": 1.0, \"interactionType\": 1, \"questionType\": 2, \"questionId\": \"1.1_YourTurnModel\", \"learnToolsVersion\": \"0.3.4\", \"failureMessage\": \"\", \"exceptionClass\": \"\", \"trace\": \"\"}}, \"*\")"
      ],
      "text/plain": [
       "<IPython.core.display.Javascript object>"
      ]
     },
     "metadata": {},
     "output_type": "display_data"
    },
    {
     "data": {
      "text/markdown": [
       "<span style=\"color:#33cc33\">Correct</span>"
      ],
      "text/plain": [
       "Correct"
      ]
     },
     "metadata": {},
     "output_type": "display_data"
    },
    {
     "data": {
      "image/png": "[encoded data removed]",
      "text/plain": [
       "<Figure size 432x288 with 1 Axes>"
      ]
     },
     "metadata": {},
     "output_type": "display_data"
    }
   ],
   "source": [
    "numerical_transformer = SimpleImputer(strategy='median')\n",
    "\n",
    "# Preprocessing for categorical data\n",
    "categorical_transformer = Pipeline(steps=[\n",
    "    ('imputer', SimpleImputer(strategy='most_frequent')),\n",
    "    ('onehot', OneHotEncoder(handle_unknown='ignore'))\n",
    "])\n",
    "\n",
    "# Bundle preprocessing for numerical and categorical data\n",
    "preprocessor = ColumnTransformer(\n",
    "    transformers=[\n",
    "        ('num', numerical_transformer, numerical_cols),\n",
    "        ('cat', categorical_transformer, categorical_cols)\n",
    "    ])\n",
    "\n",
    "# Define model\n",
    "forest_acc =[]\n",
    "for i in range (125 , 140):\n",
    "    model = RandomForestRegressor(n_estimators=i, random_state=0)\n",
    "    \n",
    "\n",
    "# Bundle preprocessing and modeling code in a pipeline\n",
    "    clf = Pipeline(steps=[('preprocessor', preprocessor),\n",
    "                      ('model', model)\n",
    "                     ])\n",
    "\n",
    "# Preprocessing of training data, fit model \n",
    "    clf.fit(X_train, y_train)\n",
    "\n",
    "# Preprocessing of validation data, get predictions\n",
    "    preds = clf.predict(X_valid)\n",
    "    MEA = mean_absolute_error(y_valid, preds)  \n",
    "    forest_acc.append(MEA)\n",
    "    plt.scatter(i ,MEA )\n",
    "    forest_acc.clear()\n",
    "\n",
    "# Check your answer\n",
    "\n",
    "\n",
    "\n",
    "\n",
    "step_1.a.check()"
   ]
  },
  {
   "cell_type": "code",
   "execution_count": 8,
   "id": "2790e106",
   "metadata": {
    "execution": {
     "iopub.execute_input": "2023-02-14T08:06:00.424581Z",
     "iopub.status.busy": "2023-02-14T08:06:00.423234Z",
     "iopub.status.idle": "2023-02-14T08:06:00.437226Z",
     "shell.execute_reply": "2023-02-14T08:06:00.436130Z"
    },
    "papermill": {
     "duration": 0.024091,
     "end_time": "2023-02-14T08:06:00.439379",
     "exception": false,
     "start_time": "2023-02-14T08:06:00.415288",
     "status": "completed"
    },
    "tags": []
   },
   "outputs": [
    {
     "data": {
      "application/javascript": [
       "parent.postMessage({\"jupyterEvent\": \"custom.exercise_interaction\", \"data\": {\"interactionType\": 2, \"questionType\": 2, \"questionId\": \"1.1_YourTurnModel\", \"learnToolsVersion\": \"0.3.4\", \"valueTowardsCompletion\": 0.0, \"failureMessage\": \"\", \"exceptionClass\": \"\", \"trace\": \"\", \"outcomeType\": 4}}, \"*\")"
      ],
      "text/plain": [
       "<IPython.core.display.Javascript object>"
      ]
     },
     "metadata": {},
     "output_type": "display_data"
    },
    {
     "data": {
      "text/markdown": [
       "<span style=\"color:#3366cc\">Hint:</span> While there are many different potential solutions to this problem, we achieved satisfactory results by changing only `column_transformer` from the default value - specifically, we changed the `strategy` parameter that decides how missing values are imputed."
      ],
      "text/plain": [
       "Hint: While there are many different potential solutions to this problem, we achieved satisfactory results by changing only `column_transformer` from the default value - specifically, we changed the `strategy` parameter that decides how missing values are imputed."
      ]
     },
     "metadata": {},
     "output_type": "display_data"
    },
    {
     "data": {
      "application/javascript": [
       "parent.postMessage({\"jupyterEvent\": \"custom.exercise_interaction\", \"data\": {\"interactionType\": 3, \"questionType\": 2, \"questionId\": \"1.1_YourTurnModel\", \"learnToolsVersion\": \"0.3.4\", \"valueTowardsCompletion\": 0.0, \"failureMessage\": \"\", \"exceptionClass\": \"\", \"trace\": \"\", \"outcomeType\": 4}}, \"*\")"
      ],
      "text/plain": [
       "<IPython.core.display.Javascript object>"
      ]
     },
     "metadata": {},
     "output_type": "display_data"
    },
    {
     "data": {
      "text/markdown": [
       "<span style=\"color:#33cc99\">Solution:</span> \n",
       "```python\n",
       "# Preprocessing for numerical data\n",
       "numerical_transformer = SimpleImputer(strategy='constant')\n",
       "\n",
       "# Preprocessing for categorical data\n",
       "categorical_transformer = Pipeline(steps=[\n",
       "    ('imputer', SimpleImputer(strategy='constant')),\n",
       "    ('onehot', OneHotEncoder(handle_unknown='ignore'))\n",
       "])\n",
       "\n",
       "# Bundle preprocessing for numerical and categorical data\n",
       "preprocessor = ColumnTransformer(\n",
       "    transformers=[\n",
       "        ('num', numerical_transformer, numerical_cols),\n",
       "        ('cat', categorical_transformer, categorical_cols)\n",
       "    ])\n",
       "\n",
       "# Define model\n",
       "model = RandomForestRegressor(n_estimators=100, random_state=0)\n",
       "\n",
       "```"
      ],
      "text/plain": [
       "Solution: \n",
       "```python\n",
       "# Preprocessing for numerical data\n",
       "numerical_transformer = SimpleImputer(strategy='constant')\n",
       "\n",
       "# Preprocessing for categorical data\n",
       "categorical_transformer = Pipeline(steps=[\n",
       "    ('imputer', SimpleImputer(strategy='constant')),\n",
       "    ('onehot', OneHotEncoder(handle_unknown='ignore'))\n",
       "])\n",
       "\n",
       "# Bundle preprocessing for numerical and categorical data\n",
       "preprocessor = ColumnTransformer(\n",
       "    transformers=[\n",
       "        ('num', numerical_transformer, numerical_cols),\n",
       "        ('cat', categorical_transformer, categorical_cols)\n",
       "    ])\n",
       "\n",
       "# Define model\n",
       "model = RandomForestRegressor(n_estimators=100, random_state=0)\n",
       "\n",
       "```"
      ]
     },
     "metadata": {},
     "output_type": "display_data"
    }
   ],
   "source": [
    "# Lines below will give you a hint or solution code\n",
    "step_1.a.hint()\n",
    "step_1.a.solution()"
   ]
  },
  {
   "cell_type": "markdown",
   "id": "97266fdf",
   "metadata": {
    "papermill": {
     "duration": 0.007169,
     "end_time": "2023-02-14T08:06:00.453639",
     "exception": false,
     "start_time": "2023-02-14T08:06:00.446470",
     "status": "completed"
    },
    "tags": []
   },
   "source": [
    "### Part B\n",
    "\n",
    "Run the code cell below without changes.\n",
    "\n",
    "To pass this step, you need to have defined a pipeline in **Part A** that achieves lower MAE than the code above.  You're encouraged to take your time here and try out many different approaches, to see how low you can get the MAE!  (_If your code does not pass, please amend the preprocessing steps and model in Part A._)"
   ]
  },
  {
   "cell_type": "code",
   "execution_count": 9,
   "id": "325e34b4",
   "metadata": {
    "execution": {
     "iopub.execute_input": "2023-02-14T08:06:00.470205Z",
     "iopub.status.busy": "2023-02-14T08:06:00.469784Z",
     "iopub.status.idle": "2023-02-14T08:06:06.597801Z",
     "shell.execute_reply": "2023-02-14T08:06:06.596634Z"
    },
    "papermill": {
     "duration": 6.138901,
     "end_time": "2023-02-14T08:06:06.600298",
     "exception": false,
     "start_time": "2023-02-14T08:06:00.461397",
     "status": "completed"
    },
    "tags": []
   },
   "outputs": [
    {
     "name": "stdout",
     "output_type": "stream",
     "text": [
      "MAE: 17294.58857053226\n"
     ]
    },
    {
     "data": {
      "application/javascript": [
       "parent.postMessage({\"jupyterEvent\": \"custom.exercise_interaction\", \"data\": {\"outcomeType\": 1, \"valueTowardsCompletion\": 1.0, \"interactionType\": 1, \"questionType\": 2, \"questionId\": \"1.2_YourTurnPredict\", \"learnToolsVersion\": \"0.3.4\", \"failureMessage\": \"\", \"exceptionClass\": \"\", \"trace\": \"\"}}, \"*\")"
      ],
      "text/plain": [
       "<IPython.core.display.Javascript object>"
      ]
     },
     "metadata": {},
     "output_type": "display_data"
    },
    {
     "data": {
      "text/markdown": [
       "<span style=\"color:#33cc33\">Correct</span>"
      ],
      "text/plain": [
       "Correct"
      ]
     },
     "metadata": {},
     "output_type": "display_data"
    }
   ],
   "source": [
    "# Bundle preprocessing and modeling code in a pipeline\n",
    "model = RandomForestRegressor(n_estimators=131, random_state=0)\n",
    "    \n",
    "\n",
    "# Bundle preprocessing and modeling code in a pipeline\n",
    "clf = Pipeline(steps=[('preprocessor', preprocessor),\n",
    "                      ('model', model)\n",
    "                     ])\n",
    "\n",
    "# Preprocessing of training data, fit model \n",
    "clf.fit(X_train, y_train)\n",
    "\n",
    "# Preprocessing of validation data, get predictions\n",
    "#preds = clf.predict(X_valid)\n",
    "my_pipeline = Pipeline(steps=[('preprocessor', preprocessor),\n",
    "                              ('model', model)\n",
    "                             ])\n",
    "\n",
    "# Preprocessing of training data, fit model \n",
    "my_pipeline.fit(X_train, y_train)\n",
    "\n",
    "# Preprocessing of validation data, get predictions\n",
    "preds = my_pipeline.predict(X_valid)\n",
    "\n",
    "# Evaluate the model\n",
    "score = mean_absolute_error(y_valid, preds)\n",
    "print('MAE:', score)\n",
    "\n",
    "# Check your answer\n",
    "step_1.b.check()"
   ]
  },
  {
   "cell_type": "code",
   "execution_count": 10,
   "id": "215369a3",
   "metadata": {
    "execution": {
     "iopub.execute_input": "2023-02-14T08:06:06.617084Z",
     "iopub.status.busy": "2023-02-14T08:06:06.616359Z",
     "iopub.status.idle": "2023-02-14T08:06:06.620858Z",
     "shell.execute_reply": "2023-02-14T08:06:06.620029Z"
    },
    "papermill": {
     "duration": 0.015722,
     "end_time": "2023-02-14T08:06:06.623270",
     "exception": false,
     "start_time": "2023-02-14T08:06:06.607548",
     "status": "completed"
    },
    "tags": []
   },
   "outputs": [],
   "source": [
    "# Line below will give you a hint\n",
    "#step_1.b.hint()"
   ]
  },
  {
   "cell_type": "markdown",
   "id": "cd3ab2db",
   "metadata": {
    "papermill": {
     "duration": 0.007432,
     "end_time": "2023-02-14T08:06:06.638293",
     "exception": false,
     "start_time": "2023-02-14T08:06:06.630861",
     "status": "completed"
    },
    "tags": []
   },
   "source": [
    "# Step 2: Generate test predictions\n",
    "\n",
    "Now, you'll use your trained model to generate predictions with the test data."
   ]
  },
  {
   "cell_type": "code",
   "execution_count": 11,
   "id": "5e65ae2b",
   "metadata": {
    "execution": {
     "iopub.execute_input": "2023-02-14T08:06:06.655804Z",
     "iopub.status.busy": "2023-02-14T08:06:06.654984Z",
     "iopub.status.idle": "2023-02-14T08:06:06.747527Z",
     "shell.execute_reply": "2023-02-14T08:06:06.746150Z"
    },
    "papermill": {
     "duration": 0.103817,
     "end_time": "2023-02-14T08:06:06.749879",
     "exception": false,
     "start_time": "2023-02-14T08:06:06.646062",
     "status": "completed"
    },
    "tags": []
   },
   "outputs": [
    {
     "data": {
      "application/javascript": [
       "parent.postMessage({\"jupyterEvent\": \"custom.exercise_interaction\", \"data\": {\"outcomeType\": 1, \"valueTowardsCompletion\": 1.0, \"interactionType\": 1, \"questionType\": 2, \"questionId\": \"2_TestPreds\", \"learnToolsVersion\": \"0.3.4\", \"failureMessage\": \"\", \"exceptionClass\": \"\", \"trace\": \"\"}}, \"*\")"
      ],
      "text/plain": [
       "<IPython.core.display.Javascript object>"
      ]
     },
     "metadata": {},
     "output_type": "display_data"
    },
    {
     "data": {
      "text/markdown": [
       "<span style=\"color:#33cc33\">Correct</span>"
      ],
      "text/plain": [
       "Correct"
      ]
     },
     "metadata": {},
     "output_type": "display_data"
    }
   ],
   "source": [
    "# Preprocessing of test data, fit model\n",
    "preds_test = my_pipeline.predict(X_test) # Your code here\n",
    "#score = mean_absolute_error(y, preds_test)\n",
    "# Check your answer\n",
    "step_2.check()"
   ]
  },
  {
   "cell_type": "code",
   "execution_count": 12,
   "id": "1b262316",
   "metadata": {
    "execution": {
     "iopub.execute_input": "2023-02-14T08:06:06.767891Z",
     "iopub.status.busy": "2023-02-14T08:06:06.767233Z",
     "iopub.status.idle": "2023-02-14T08:06:06.771632Z",
     "shell.execute_reply": "2023-02-14T08:06:06.770848Z"
    },
    "papermill": {
     "duration": 0.015636,
     "end_time": "2023-02-14T08:06:06.773784",
     "exception": false,
     "start_time": "2023-02-14T08:06:06.758148",
     "status": "completed"
    },
    "tags": []
   },
   "outputs": [],
   "source": [
    "# Lines below will give you a hint or solution code\n",
    "#step_2.hint()\n",
    "#step_2.solution()"
   ]
  },
  {
   "cell_type": "markdown",
   "id": "d449aaf4",
   "metadata": {
    "papermill": {
     "duration": 0.007342,
     "end_time": "2023-02-14T08:06:06.788848",
     "exception": false,
     "start_time": "2023-02-14T08:06:06.781506",
     "status": "completed"
    },
    "tags": []
   },
   "source": [
    "Run the next code cell without changes to save your results to a CSV file that can be submitted directly to the competition."
   ]
  },
  {
   "cell_type": "code",
   "execution_count": 13,
   "id": "bbde5445",
   "metadata": {
    "execution": {
     "iopub.execute_input": "2023-02-14T08:06:06.806421Z",
     "iopub.status.busy": "2023-02-14T08:06:06.805745Z",
     "iopub.status.idle": "2023-02-14T08:06:06.818245Z",
     "shell.execute_reply": "2023-02-14T08:06:06.817272Z"
    },
    "papermill": {
     "duration": 0.024217,
     "end_time": "2023-02-14T08:06:06.820887",
     "exception": false,
     "start_time": "2023-02-14T08:06:06.796670",
     "status": "completed"
    },
    "tags": []
   },
   "outputs": [],
   "source": [
    "# Save test predictions to file\n",
    "output = pd.DataFrame({'Id': X_test.index,\n",
    "                       'SalePrice': preds_test})\n",
    "output.to_csv('submission.csv', index=False)"
   ]
  },
  {
   "cell_type": "markdown",
   "id": "27ea9792",
   "metadata": {
    "papermill": {
     "duration": 0.007469,
     "end_time": "2023-02-14T08:06:06.836140",
     "exception": false,
     "start_time": "2023-02-14T08:06:06.828671",
     "status": "completed"
    },
    "tags": []
   },
   "source": [
    "# Submit your results\n",
    "\n",
    "Once you have successfully completed Step 2, you're ready to submit your results to the leaderboard!  If you choose to do so, make sure that you have already joined the competition by clicking on the **Join Competition** button at [this link](https://www.kaggle.com/c/home-data-for-ml-course).  \n",
    "1. Begin by clicking on the **Save Version** button in the top right corner of the window.  This will generate a pop-up window.  \n",
    "2. Ensure that the **Save and Run All** option is selected, and then click on the **Save** button.\n",
    "3. This generates a window in the bottom left corner of the notebook.  After it has finished running, click on the number to the right of the **Save Version** button.  This pulls up a list of versions on the right of the screen.  Click on the ellipsis **(...)** to the right of the most recent version, and select **Open in Viewer**.  This brings you into view mode of the same page. You will need to scroll down to get back to these instructions.\n",
    "4. Click on the **Output** tab on the right of the screen.  Then, click on the file you would like to submit, and click on the **Submit** button to submit your results to the leaderboard.\n",
    "\n",
    "You have now successfully submitted to the competition!\n",
    "\n",
    "If you want to keep working to improve your performance, select the **Edit** button in the top right of the screen. Then you can change your code and repeat the process. There's a lot of room to improve, and you will climb up the leaderboard as you work.\n",
    "\n",
    "\n",
    "# Keep going\n",
    "\n",
    "Move on to learn about [**cross-validation**](https://www.kaggle.com/alexisbcook/cross-validation), a technique you can use to obtain more accurate estimates of model performance!"
   ]
  },
  {
   "cell_type": "markdown",
   "id": "969f65de",
   "metadata": {
    "papermill": {
     "duration": 0.007718,
     "end_time": "2023-02-14T08:06:06.851563",
     "exception": false,
     "start_time": "2023-02-14T08:06:06.843845",
     "status": "completed"
    },
    "tags": []
   },
   "source": [
    "---\n",
    "\n",
    "\n",
    "\n",
    "\n",
    "*Have questions or comments? Visit the [course discussion forum](https://www.kaggle.com/learn/intermediate-machine-learning/discussion) to chat with other learners.*"
   ]
  }
 ],
 "metadata": {
  "kernelspec": {
   "display_name": "Python 3",
   "language": "python",
   "name": "python3"
  },
  "language_info": {
   "codemirror_mode": {
    "name": "ipython",
    "version": 3
   },
   "file_extension": ".py",
   "mimetype": "text/x-python",
   "name": "python",
   "nbconvert_exporter": "python",
   "pygments_lexer": "ipython3",
   "version": "3.7.12"
  },
  "papermill": {
   "default_parameters": {},
   "duration": 67.072264,
   "end_time": "2023-02-14T08:06:07.681864",
   "environment_variables": {},
   "exception": null,
   "input_path": "__notebook__.ipynb",
   "output_path": "__notebook__.ipynb",
   "parameters": {},
   "start_time": "2023-02-14T08:05:00.609600",
   "version": "2.3.4"
  }
 },
 "nbformat": 4,
 "nbformat_minor": 5
}
